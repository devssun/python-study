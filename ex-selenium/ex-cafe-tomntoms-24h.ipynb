{
 "cells": [
  {
   "cell_type": "code",
   "execution_count": 34,
   "metadata": {},
   "outputs": [],
   "source": [
    "# setting\n",
    "from bs4 import BeautifulSoup\n",
    "from selenium import webdriver\n",
    "import time\n",
    "\n",
    "def open_chrome_driver():\n",
    "    path = '/Users/hyesunzzang/development/python/sk-python-study/chromedriver'\n",
    "    driver = webdriver.Chrome(path)\n",
    "    # 24 시간 운영하는 매장만 검색합니다\n",
    "    driver.get('https://www.tomntoms.com/store/storeList.php')\n",
    "    driver.find_element_by_link_text('매장찾기').click()\n",
    "    return driver\n",
    "\n",
    "# 현재 보고있는 페이지에서 html parser 실행하기\n",
    "def get_soup():\n",
    "    source = driver.page_source\n",
    "    soup = BeautifulSoup(source, 'html.parser')\n",
    "    return soup"
   ]
  },
  {
   "cell_type": "code",
   "execution_count": 35,
   "metadata": {},
   "outputs": [
    {
     "data": {
      "text/plain": [
       "<selenium.webdriver.chrome.webdriver.WebDriver (session=\"4058b41a5128d39bf1f6458b6fe46f93\")>"
      ]
     },
     "execution_count": 35,
     "metadata": {},
     "output_type": "execute_result"
    }
   ],
   "source": [
    "open_chrome_driver()"
   ]
  },
  {
   "cell_type": "code",
   "execution_count": null,
   "metadata": {},
   "outputs": [],
   "source": []
  }
 ],
 "metadata": {
  "kernelspec": {
   "display_name": "Python 3",
   "language": "python",
   "name": "python3"
  },
  "language_info": {
   "codemirror_mode": {
    "name": "ipython",
    "version": 3
   },
   "file_extension": ".py",
   "mimetype": "text/x-python",
   "name": "python",
   "nbconvert_exporter": "python",
   "pygments_lexer": "ipython3",
   "version": "3.7.2"
  }
 },
 "nbformat": 4,
 "nbformat_minor": 2
}
